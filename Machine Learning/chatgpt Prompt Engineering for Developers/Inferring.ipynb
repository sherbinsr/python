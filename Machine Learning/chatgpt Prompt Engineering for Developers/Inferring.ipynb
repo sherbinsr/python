{
 "cells": [
  {
   "cell_type": "markdown",
   "id": "0a02004f-01dc-41d9-a22e-fe06ef7ff9ef",
   "metadata": {},
   "source": [
    "# Inferring Using Gpt-4.5-turbo Model"
   ]
  },
  {
   "cell_type": "code",
   "execution_count": null,
   "id": "209f9f44-5300-494e-889b-2bf4f68d3d27",
   "metadata": {},
   "outputs": [],
   "source": [
    "# importing openai package and configuring api key\n",
    "\n",
    "import openai\n",
    "\n",
    "from dotenv import load_dotenv, find_dotenv\n",
    "key = load_dotenv(find_dotenv())\n",
    "print(key)\n",
    "openai.api_key = key"
   ]
  },
  {
   "cell_type": "code",
   "execution_count": 4,
   "id": "83092278-b73f-4d61-9713-55e6c86e7045",
   "metadata": {},
   "outputs": [],
   "source": [
    "# fucntion for returning response from gpt model\n",
    "\n",
    "def get_completion(prompt, model=\"gpt-3.5-turbo\"):\n",
    "    messages = [{\"role\": \"user\", \"content\": prompt}]\n",
    "    response = openai.ChatCompletion.create(\n",
    "        model=model,\n",
    "        messages=messages,\n",
    "        temperature=0, # this is the degree of randomness of the model's output\n",
    "    )\n",
    "    return response.choices[0].message[\"content\"]"
   ]
  },
  {
   "cell_type": "markdown",
   "id": "bda68fe5-7f74-49aa-9c12-7fb768c4eedb",
   "metadata": {},
   "source": [
    "## Sample Product review text"
   ]
  },
  {
   "cell_type": "code",
   "execution_count": 8,
   "id": "d3346814-1790-43ce-ba91-165e275c6601",
   "metadata": {},
   "outputs": [],
   "source": [
    "lamp_review = \"\"\"\n",
    "Needed a nice lamp for my bedroom, and this one had \\\n",
    "additional storage and not too high of a price point. \\\n",
    "Got it fast.  The string to our lamp broke during the \\\n",
    "transit and the company happily sent over a new one. \\\n",
    "Came within a few days as well. It was easy to put \\\n",
    "together.  I had a missing part, so I contacted their \\\n",
    "support and they very quickly got me the missing piece! \\\n",
    "Lumina seems to me to be a great company that cares \\\n",
    "about their customers and products!!\n",
    "\"\"\""
   ]
  },
  {
   "cell_type": "markdown",
   "id": "38243955-ff5d-40ea-aedb-02e24f8fd606",
   "metadata": {},
   "source": [
    "## Prompting the product review Sentiment (positive/negative)"
   ]
  },
  {
   "cell_type": "code",
   "execution_count": null,
   "id": "54b5cc0a-2b6b-41a9-9bf1-14ccea563239",
   "metadata": {},
   "outputs": [],
   "source": [
    "prompt = f\"\"\"\n",
    "What is the sentiment of the following product review, \n",
    "which is delimited with triple backticks?\n",
    "\n",
    "Review text: '''{lamp_review}'''\n",
    "\"\"\"\n",
    "response = get_completion(prompt)\n",
    "print(response)"
   ]
  },
  {
   "cell_type": "markdown",
   "id": "704db428-436c-4b83-861b-4390501f8222",
   "metadata": {},
   "source": [
    "## Prompting the product sentiment review in single word "
   ]
  },
  {
   "cell_type": "code",
   "execution_count": null,
   "id": "7eda3e72-29a9-496a-9210-b5fb7af7f50d",
   "metadata": {},
   "outputs": [],
   "source": [
    "prompt = f\"\"\"\n",
    "What is the sentiment of the following product review, \n",
    "which is delimited with triple backticks?\n",
    "\n",
    "Give your answer as a single word, either \"positive\" \\\n",
    "or \"negative\".\n",
    "\n",
    "Review text: '''{lamp_review}'''\n",
    "\"\"\"\n",
    "response = get_completion(prompt)\n",
    "print(response)"
   ]
  },
  {
   "cell_type": "markdown",
   "id": "c4deb347-8675-4f0e-95bc-62af95fe0b8f",
   "metadata": {},
   "source": [
    "## Identify types of emotions Embedded in the sample text"
   ]
  },
  {
   "cell_type": "code",
   "execution_count": null,
   "id": "ff54bfe6-3807-4549-b33e-7ac94c656874",
   "metadata": {},
   "outputs": [],
   "source": [
    "prompt = f\"\"\"\n",
    "Identify a list of emotions that the writer of the \\\n",
    "following review is expressing. Include no more than \\\n",
    "five items in the list. Format your answer as a list of \\\n",
    "lower-case words separated by commas.\n",
    "\n",
    "Review text: '''{lamp_review}'''\n",
    "\"\"\"\n",
    "response = get_completion(prompt)\n",
    "print(response)"
   ]
  },
  {
   "cell_type": "markdown",
   "id": "62dbc435-4f2e-4a7e-abb7-7c4aaebcfd42",
   "metadata": {},
   "source": [
    "## Identifying the reviewer is  anger with product"
   ]
  },
  {
   "cell_type": "code",
   "execution_count": null,
   "id": "d503ad3e-b52e-4baa-aaa5-e15e05281c61",
   "metadata": {},
   "outputs": [],
   "source": [
    "prompt = f\"\"\"\n",
    "Is the writer of the following review expressing anger?\\\n",
    "The review is delimited with triple backticks. \\\n",
    "Give your answer as either yes or no.\n",
    "\n",
    "Review text: '''{lamp_review}'''\n",
    "\"\"\"\n",
    "response = get_completion(prompt)\n",
    "print(response)"
   ]
  },
  {
   "cell_type": "markdown",
   "id": "5b732da0-afc9-4075-8b78-b768b9698e15",
   "metadata": {},
   "source": [
    "## Extract product and company name from customer reviews"
   ]
  },
  {
   "cell_type": "markdown",
   "id": "6031b9ff-33bd-4378-bfa9-1c613c40c6d6",
   "metadata": {},
   "source": [
    "prompt = f\"\"\"\n",
    "Identify the following items from the review text: \n",
    "- Item purchased by reviewer\n",
    "- Company that made the item\n",
    "\n",
    "The review is delimited with triple backticks. \\\n",
    "Format your response as a JSON object with \\\n",
    "\"Item\" and \"Brand\" as the keys. \n",
    "If the information isn't present, use \"unknown\" \\\n",
    "as the value.\n",
    "Make your response as short as possible.\n",
    "  \n",
    "Review text: '''{lamp_review}'''\n",
    "\"\"\"\n",
    "response = get_completion(prompt)\n",
    "print(response)"
   ]
  },
  {
   "cell_type": "markdown",
   "id": "b7ce8ec7-4b0d-4476-b044-c2d5a66c10f0",
   "metadata": {},
   "source": [
    "## Doing multiple tasks and creating the responses in JSON Format"
   ]
  },
  {
   "cell_type": "code",
   "execution_count": null,
   "id": "80f0c61b-e076-436b-a370-99d5827fc78d",
   "metadata": {},
   "outputs": [],
   "source": [
    "prompt = f\"\"\"\n",
    "Identify the following items from the review text: \n",
    "- Sentiment (positive or negative)\n",
    "- Is the reviewer expressing anger? (true or false)\n",
    "- Item purchased by reviewer\n",
    "- Company that made the item\n",
    "\n",
    "The review is delimited with triple backticks. \\\n",
    "Format your response as a JSON object with \\\n",
    "\"Sentiment\", \"Anger\", \"Item\" and \"Brand\" as the keys.\n",
    "If the information isn't present, use \"unknown\" \\\n",
    "as the value.\n",
    "Make your response as short as possible.\n",
    "Format the Anger value as a boolean.\n",
    "\n",
    "Review text: '''{lamp_review}'''\n",
    "\"\"\"\n",
    "response = get_completion(prompt)\n",
    "print(response)"
   ]
  },
  {
   "cell_type": "markdown",
   "id": "8c6e62a1-765f-4a9b-9dbf-a0671283f233",
   "metadata": {},
   "source": [
    "## Another Example text"
   ]
  },
  {
   "cell_type": "code",
   "execution_count": null,
   "id": "71d8019c-ba7c-453a-92ed-f01fb90bf91f",
   "metadata": {},
   "outputs": [],
   "source": [
    "story = \"\"\"\n",
    "In a recent survey conducted by the government, \n",
    "public sector employees were asked to rate their level \n",
    "of satisfaction with the department they work at. \n",
    "The results revealed that NASA was the most popular \n",
    "department with a satisfaction rating of 95%.\n",
    "\n",
    "One NASA employee, John Smith, commented on the findings, \n",
    "stating, \"I'm not surprised that NASA came out on top. \n",
    "It's a great place to work with amazing people and \n",
    "incredible opportunities. I'm proud to be a part of \n",
    "such an innovative organization.\"\n",
    "\n",
    "The results were also welcomed by NASA's management team, \n",
    "with Director Tom Johnson stating, \"We are thrilled to \n",
    "hear that our employees are satisfied with their work at NASA. \n",
    "We have a talented and dedicated team who work tirelessly \n",
    "to achieve our goals, and it's fantastic to see that their \n",
    "hard work is paying off.\"\n",
    "\n",
    "The survey also revealed that the \n",
    "Social Security Administration had the lowest satisfaction \n",
    "rating, with only 45% of employees indicating they were \n",
    "satisfied with their job. The government has pledged to \n",
    "address the concerns raised by employees in the survey and \n",
    "work towards improving job satisfaction across all departments.\n",
    "\"\"\""
   ]
  },
  {
   "cell_type": "markdown",
   "id": "580b1430-2f31-4f40-ae8f-c6c8e2643dfa",
   "metadata": {},
   "source": [
    "## Creating a list of topics from above text"
   ]
  },
  {
   "cell_type": "code",
   "execution_count": null,
   "id": "b2570d71-d3cd-4638-897e-bf6b2598eabb",
   "metadata": {},
   "outputs": [],
   "source": [
    "prompt = f\"\"\"\n",
    "Determine five topics that are being discussed in the \\\n",
    "following text, which is delimited by triple backticks.\n",
    "\n",
    "Make each item one or two words long. \n",
    "\n",
    "Format your response as a list of items separated by commas.\n",
    "\n",
    "Text sample: '''{story}'''\n",
    "\"\"\"\n",
    "response = get_completion(prompt)\n",
    "print(response)"
   ]
  },
  {
   "cell_type": "markdown",
   "id": "41da218b-d08a-4e62-9ed3-711415183e84",
   "metadata": {},
   "source": [
    "## Sample topics generated "
   ]
  },
  {
   "cell_type": "code",
   "execution_count": null,
   "id": "cdbcea18-db71-4ba6-87fa-b81758e18733",
   "metadata": {},
   "outputs": [],
   "source": [
    "topic_list = [\n",
    "    \"nasa\", \"local government\", \"engineering\", \n",
    "    \"employee satisfaction\", \"federal government\"\n",
    "]"
   ]
  },
  {
   "cell_type": "markdown",
   "id": "9fd3a31c-8e7f-4944-a1b7-d5e689ce6cb9",
   "metadata": {},
   "source": [
    "## Prompting required result from above example"
   ]
  },
  {
   "cell_type": "code",
   "execution_count": null,
   "id": "f7990394-f1a4-49ad-8057-245529bbfce2",
   "metadata": {},
   "outputs": [],
   "source": [
    "prompt = f\"\"\"\n",
    "Determine whether each item in the following list of \\\n",
    "topics is a topic in the text below, which\n",
    "is delimited with triple backticks.\n",
    "\n",
    "Give your answer as JSON with 0 or 1 for each topic.\\\n",
    "\n",
    "List of topics: {\", \".join(topic_list)}\n",
    "\n",
    "Text sample: '''{story}'''\n",
    "\"\"\"\n",
    "response = get_completion(prompt)\n",
    "print(response)"
   ]
  },
  {
   "cell_type": "markdown",
   "id": "aa57deab-0ae6-44fb-828a-fce2a9fd395e",
   "metadata": {},
   "source": [
    "## Creating a news alert for certain topics"
   ]
  },
  {
   "cell_type": "code",
   "execution_count": null,
   "id": "61a3be11-e05a-4a9e-8b3d-01bbf1a404b5",
   "metadata": {},
   "outputs": [],
   "source": [
    "topic_dict = {i.split(': ')[0]: int(i.split(': ')[1]) for i in response.split(sep='\\n')}\n",
    "if topic_dict['nasa'] == 1:\n",
    "    print(\"ALERT: New NASA story!\")"
   ]
  }
 ],
 "metadata": {
  "kernelspec": {
   "display_name": "Python 3 (ipykernel)",
   "language": "python",
   "name": "python3"
  },
  "language_info": {
   "codemirror_mode": {
    "name": "ipython",
    "version": 3
   },
   "file_extension": ".py",
   "mimetype": "text/x-python",
   "name": "python",
   "nbconvert_exporter": "python",
   "pygments_lexer": "ipython3",
   "version": "3.12.4"
  }
 },
 "nbformat": 4,
 "nbformat_minor": 5
}
