{
 "cells": [
  {
   "cell_type": "markdown",
   "id": "41359dca-63c9-4e26-b0ef-7f3644485a9c",
   "metadata": {},
   "source": [
    "# ChatGPT Prompt Engineering for Developers"
   ]
  },
  {
   "cell_type": "code",
   "execution_count": null,
   "id": "bef8177e-1e55-463c-9449-79637d61f68d",
   "metadata": {
    "scrolled": true
   },
   "outputs": [],
   "source": [
    "# installing openai package\n",
    "\n",
    "!pip install openai"
   ]
  },
  {
   "cell_type": "code",
   "execution_count": 14,
   "id": "323b654f-2299-48e8-bd41-26d42a29ff9a",
   "metadata": {},
   "outputs": [
    {
     "name": "stdout",
     "output_type": "stream",
     "text": [
      "True\n"
     ]
    }
   ],
   "source": [
    "# importing openai package and configuring api key\n",
    "\n",
    "import openai\n",
    "\n",
    "\n",
    "from dotenv import load_dotenv, find_dotenv\n",
    "key = load_dotenv(find_dotenv())\n",
    "print(key)\n",
    "openai.api_key = key"
   ]
  },
  {
   "cell_type": "code",
   "execution_count": null,
   "id": "ce7da6aa-09c2-49eb-9d5e-0a2824651c74",
   "metadata": {},
   "outputs": [],
   "source": [
    "# fucntion for returning response from gpt model\n",
    "\n",
    "def get_completion(prompt, model=\"gpt-3.5-turbo\"):\n",
    "    messages = [{\"role\": \"user\", \"content\": prompt}]\n",
    "    response = openai.ChatCompletion.create(\n",
    "        model=model,\n",
    "        messages=messages,\n",
    "        temperature=0, # this is the degree of randomness of the model's output\n",
    "    )\n",
    "    return response.choices[0].message[\"content\"]"
   ]
  },
  {
   "cell_type": "markdown",
   "id": "4db48d5e-ff4e-4cff-bcea-3a185701319b",
   "metadata": {},
   "source": [
    "# Priciples of prompt engineering\n",
    "## Principle 1: write the instruction clear and specific"
   ]
  },
  {
   "cell_type": "markdown",
   "id": "86139fed-cf77-4683-93e5-ad911419d807",
   "metadata": {},
   "source": [
    "### Tactic 1 : Use Delimiters \n",
    "### for example triple quotes,triple backticks,triple dashes,<Angle brackets> and <xml> xml tags <xml/>"
   ]
  },
  {
   "cell_type": "code",
   "execution_count": null,
   "id": "85c82172-9246-428f-8bd0-5732dda56ae4",
   "metadata": {},
   "outputs": [],
   "source": [
    "# Example for Tactic 1:\n",
    "\n",
    "text = f\"\"\"\n",
    "You should express what you want a model to do by \\ \n",
    "providing instructions that are as clear and \\ \n",
    "specific as you can possibly make them. \\ \n",
    "This will guide the model towards the desired output, \\ \n",
    "and reduce the chances of receiving irrelevant \\ \n",
    "or incorrect responses. Don't confuse writing a \\ \n",
    "clear prompt with writing a short prompt. \\ \n",
    "In many cases, longer prompts provide more clarity \\ \n",
    "and context for the model, which can lead to \\ \n",
    "more detailed and relevant outputs.\n",
    "\"\"\"\n",
    "prompt = f\"\"\"\n",
    "Summarize the text delimited by triple backticks \\ \n",
    "into a single sentence.\n",
    "```{text}```\n",
    "\"\"\"\n",
    "response = get_completion(prompt)\n",
    "print(response)"
   ]
  },
  {
   "cell_type": "markdown",
   "id": "066121c8-8eb9-4876-9da9-7a412664c4d3",
   "metadata": {},
   "source": [
    "### Tactic 2 : Ask for structured output\n",
    "#### for example  HTML , JSON"
   ]
  },
  {
   "cell_type": "code",
   "execution_count": null,
   "id": "38251696-dc93-47a4-b455-a3c99355cd68",
   "metadata": {},
   "outputs": [],
   "source": [
    "# Example for Tactic 2:\n",
    "\n",
    "prompt = f\"\"\"\n",
    "Generate a list of three made-up book titles along \\ \n",
    "with their authors and genres. \n",
    "Provide them in JSON format with the following keys: \n",
    "book_id, title, author, genre.\n",
    "\"\"\"\n",
    "response = get_completion(prompt)\n",
    "print(response)"
   ]
  },
  {
   "cell_type": "markdown",
   "id": "cbd565a3-5269-41c1-a730-888c01452909",
   "metadata": {},
   "source": [
    "### Tactic 3 : Check whether the given conditions are satisfied to do the task"
   ]
  },
  {
   "cell_type": "code",
   "execution_count": null,
   "id": "8c05ec2b-d416-4752-8a40-1492d6184013",
   "metadata": {},
   "outputs": [],
   "source": [
    "# Example for Tactic 3:\n",
    "\n",
    "text_2 = f\"\"\"\n",
    "The sun is shining brightly today, and the birds are \\\n",
    "singing. It's a beautiful day to go for a \\ \n",
    "walk in the park. The flowers are blooming, and the \\ \n",
    "trees are swaying gently in the breeze. People \\ \n",
    "are out and about, enjoying the lovely weather. \\ \n",
    "Some are having picnics, while others are playing \\ \n",
    "games or simply relaxing on the grass. It's a \\ \n",
    "perfect day to spend time outdoors and appreciate the \\ \n",
    "beauty of nature.\n",
    "\"\"\"\n",
    "prompt = f\"\"\"\n",
    "You will be provided with text delimited by triple quotes. \n",
    "If it contains a sequence of instructions, \\ \n",
    "re-write those instructions in the following format:\n",
    "\n",
    "Step 1 - ...\n",
    "Step 2 - …\n",
    "…\n",
    "Step N - …\n",
    "\n",
    "If the text does not contain a sequence of instructions, \\ \n",
    "then simply write \\\"No steps provided.\\\"\n",
    "\n",
    "\\\"\\\"\\\"{text_2}\\\"\\\"\\\"\n",
    "\"\"\"\n",
    "response = get_completion(prompt)\n",
    "print(\"Completion for Text 2:\")\n",
    "print(response)"
   ]
  },
  {
   "cell_type": "markdown",
   "id": "db8295ef-f7d9-4e42-87e4-edb8deb68429",
   "metadata": {},
   "source": [
    "### Tactic 4 : Few short prompting\n",
    "#### For example : use conversation Styles"
   ]
  },
  {
   "cell_type": "code",
   "execution_count": null,
   "id": "dbabe3d2-6d53-4723-a89d-f8497f44f45a",
   "metadata": {},
   "outputs": [],
   "source": [
    "# Example for Tactic 4:\n",
    "\n",
    "prompt = f\"\"\"\n",
    "Your task is to answer in a consistent style.\n",
    "\n",
    "<child>: Teach me about patience.\n",
    "\n",
    "<grandparent>: The river that carves the deepest \\ \n",
    "valley flows from a modest spring; the \\ \n",
    "grandest symphony originates from a single note; \\ \n",
    "the most intricate tapestry begins with a solitary thread.\n",
    "\n",
    "<child>: Teach me about resilience.\n",
    "\"\"\"\n",
    "response = get_completion(prompt)\n",
    "print(response)"
   ]
  },
  {
   "cell_type": "markdown",
   "id": "a53a8b5b-571a-43d8-b3ea-3ceee9b041ca",
   "metadata": {},
   "source": [
    "## Principle 2 : Give the model time to think"
   ]
  },
  {
   "cell_type": "code",
   "execution_count": null,
   "id": "4f899fc4-34bb-4e32-b5b3-e76e86e792f1",
   "metadata": {},
   "outputs": [],
   "source": [
    "# Example for principle 2 :\n",
    "\n",
    "text = f\"\"\"\n",
    "In a charming village, siblings Jack and Jill set out on \\ \n",
    "a quest to fetch water from a hilltop \\ \n",
    "well. As they climbed, singing joyfully, misfortune \\ \n",
    "struck—Jack tripped on a stone and tumbled \\ \n",
    "down the hill, with Jill following suit. \\ \n",
    "Though slightly battered, the pair returned home to \\ \n",
    "comforting embraces. Despite the mishap, \\ \n",
    "their adventurous spirits remained undimmed, and they \\ \n",
    "continued exploring with delight.\n",
    "\"\"\"\n",
    "# example\n",
    "prompt_1 = f\"\"\"\n",
    "Perform the following actions: \n",
    "1 - Summarize the following text delimited by triple \\\n",
    "backticks with 1 sentence.\n",
    "2 - Translate the summary into French.\n",
    "3 - List each name in the French summary.\n",
    "4 - Output a json object that contains the following \\\n",
    "keys: french_summary, num_names.\n",
    "\n",
    "Separate your answers with line breaks.\n",
    "\n",
    "Text:\n",
    "```{text}```\n",
    "\"\"\"\n",
    "response = get_completion(prompt_1)\n",
    "print(\"Completion for prompt 1:\")\n",
    "print(response)"
   ]
  }
 ],
 "metadata": {
  "kernelspec": {
   "display_name": "Python 3 (ipykernel)",
   "language": "python",
   "name": "python3"
  },
  "language_info": {
   "codemirror_mode": {
    "name": "ipython",
    "version": 3
   },
   "file_extension": ".py",
   "mimetype": "text/x-python",
   "name": "python",
   "nbconvert_exporter": "python",
   "pygments_lexer": "ipython3",
   "version": "3.12.4"
  }
 },
 "nbformat": 4,
 "nbformat_minor": 5
}
